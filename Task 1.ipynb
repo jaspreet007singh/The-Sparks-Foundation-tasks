{
 "cells": [
  {
   "cell_type": "markdown",
   "metadata": {},
   "source": [
    "## Task 1\n",
    "#### To predict the percentage of marks of an student based on the number of study hours."
   ]
  },
  {
   "cell_type": "markdown",
   "metadata": {},
   "source": [
    "\n",
    "## Question\n",
    "#### What will be predicted score if a student studies for 9.25 hrs/ day?"
   ]
  },
  {
   "cell_type": "markdown",
   "metadata": {},
   "source": [
    " First import all the required libraries"
   ]
  },
  {
   "cell_type": "code",
   "execution_count": 1,
   "metadata": {},
   "outputs": [],
   "source": [
    "import numpy as np\n",
    "import pandas as pd\n",
    "import matplotlib.pyplot as plt"
   ]
  },
  {
   "cell_type": "markdown",
   "metadata": {},
   "source": [
    "Importing the csv file on which we have to work and displaying it for reference."
   ]
  },
  {
   "cell_type": "code",
   "execution_count": 2,
   "metadata": {},
   "outputs": [
    {
     "data": {
      "text/html": [
       "<div>\n",
       "<style scoped>\n",
       "    .dataframe tbody tr th:only-of-type {\n",
       "        vertical-align: middle;\n",
       "    }\n",
       "\n",
       "    .dataframe tbody tr th {\n",
       "        vertical-align: top;\n",
       "    }\n",
       "\n",
       "    .dataframe thead th {\n",
       "        text-align: right;\n",
       "    }\n",
       "</style>\n",
       "<table border=\"1\" class=\"dataframe\">\n",
       "  <thead>\n",
       "    <tr style=\"text-align: right;\">\n",
       "      <th></th>\n",
       "      <th>Hours</th>\n",
       "      <th>Scores</th>\n",
       "    </tr>\n",
       "  </thead>\n",
       "  <tbody>\n",
       "    <tr>\n",
       "      <th>0</th>\n",
       "      <td>2.5</td>\n",
       "      <td>21</td>\n",
       "    </tr>\n",
       "    <tr>\n",
       "      <th>1</th>\n",
       "      <td>5.1</td>\n",
       "      <td>47</td>\n",
       "    </tr>\n",
       "    <tr>\n",
       "      <th>2</th>\n",
       "      <td>3.2</td>\n",
       "      <td>27</td>\n",
       "    </tr>\n",
       "    <tr>\n",
       "      <th>3</th>\n",
       "      <td>8.5</td>\n",
       "      <td>75</td>\n",
       "    </tr>\n",
       "    <tr>\n",
       "      <th>4</th>\n",
       "      <td>3.5</td>\n",
       "      <td>30</td>\n",
       "    </tr>\n",
       "  </tbody>\n",
       "</table>\n",
       "</div>"
      ],
      "text/plain": [
       "   Hours  Scores\n",
       "0    2.5      21\n",
       "1    5.1      47\n",
       "2    3.2      27\n",
       "3    8.5      75\n",
       "4    3.5      30"
      ]
     },
     "execution_count": 2,
     "metadata": {},
     "output_type": "execute_result"
    }
   ],
   "source": [
    "df=pd.read_csv(\"required.csv\")\n",
    "df.head()"
   ]
  },
  {
   "cell_type": "markdown",
   "metadata": {},
   "source": [
    "To get the idea of the total number of rows in the data set we use dataframe.size"
   ]
  },
  {
   "cell_type": "code",
   "execution_count": 3,
   "metadata": {},
   "outputs": [
    {
     "data": {
      "text/plain": [
       "50"
      ]
     },
     "execution_count": 3,
     "metadata": {},
     "output_type": "execute_result"
    }
   ],
   "source": [
    "df.size"
   ]
  },
  {
   "cell_type": "markdown",
   "metadata": {},
   "source": [
    "### Plotting the function"
   ]
  },
  {
   "cell_type": "code",
   "execution_count": 4,
   "metadata": {},
   "outputs": [
    {
     "data": {
      "image/png": "[encoded data removed]",
      "text/plain": [
       "<Figure size 432x288 with 1 Axes>"
      ]
     },
     "metadata": {
      "needs_background": "light"
     },
     "output_type": "display_data"
    }
   ],
   "source": [
    "# For a larger view of the graph execute the next line\n",
    "\n",
    "#plt.figure(figsize=(8,7))\n",
    "plt.title(\"Hours vs Scores Plot\",size=15,color=\"orange\")\n",
    "gl=[]\n",
    "c=0\n",
    "for i in df.Scores:\n",
    "    if i>=85:\n",
    "        plt.scatter(df.Hours[c],i,color=\"Green\",marker='*')\n",
    "    if i>=60 and i<85:\n",
    "        plt.scatter(df.Hours[c],i,color=\"LightGreen\",marker='*')\n",
    "    if i>=40 and i<60:\n",
    "        plt.scatter(df.Hours[c],i,color=\"yellow\")\n",
    "    if i<40:\n",
    "        plt.scatter(df.Hours[c],i,color=\"red\")\n",
    "        \n",
    "    c=c+1\n",
    "plt.xlabel(\"Hours\",size=15,color=\"Green\")\n",
    "plt.ylabel(\"Scores\",size=15,color=\"Green\")\n",
    "plt.show()"
   ]
  },
  {
   "cell_type": "markdown",
   "metadata": {},
   "source": [
    "#### From the above graph we can clearly see that the data is linearly dependent i.e. \n",
    "#### Scores ∝Hours Studied\n",
    "#### We can also see from the above plot's colourcode that if marks scored by a person is:-\n",
    "##### >=75 than it's \"Green\"\n",
    "##### >=60 and <75 than its \"Light Green\"\n",
    "##### >=40 and <60 than its \"Yellow\"\n",
    "##### <40 than its \"Red\""
   ]
  },
  {
   "cell_type": "markdown",
   "metadata": {},
   "source": [
    "## Prepration of the Data on which the Machine Larning Model is to be trained."
   ]
  },
  {
   "cell_type": "code",
   "execution_count": 5,
   "metadata": {},
   "outputs": [],
   "source": [
    "x = df.iloc[:, :-1].values  \n",
    "y = df.iloc[:, 1].values  "
   ]
  },
  {
   "cell_type": "markdown",
   "metadata": {},
   "source": [
    "#### To begin with the training of model we first need to split our data into Training & Test data"
   ]
  },
  {
   "cell_type": "code",
   "execution_count": 6,
   "metadata": {},
   "outputs": [],
   "source": [
    "from sklearn.model_selection import train_test_split  \n",
    "x_train, x_test, y_train, y_test = train_test_split(x, y, \n",
    "                            test_size=0.3, random_state=42) \n"
   ]
  },
  {
   "cell_type": "markdown",
   "metadata": {},
   "source": [
    "### From the \"Hours vs Scores Plot\" we get to know that the distribution is of Linear type, thus we use Linear Regression model from sklearn."
   ]
  },
  {
   "cell_type": "code",
   "execution_count": 7,
   "metadata": {},
   "outputs": [
    {
     "name": "stdout",
     "output_type": "stream",
     "text": [
      "Training complete.\n"
     ]
    }
   ],
   "source": [
    "from sklearn.linear_model import LinearRegression  \n",
    "regr = LinearRegression()  \n",
    "regr.fit(x_train, y_train) \n",
    "\n",
    "print(\"Training complete.\")"
   ]
  },
  {
   "cell_type": "code",
   "execution_count": 8,
   "metadata": {},
   "outputs": [
    {
     "data": {
      "image/png": "[encoded data removed]",
      "text/plain": [
       "<Figure size 648x648 with 1 Axes>"
      ]
     },
     "metadata": {
      "needs_background": "light"
     },
     "output_type": "display_data"
    }
   ],
   "source": [
    "# Plotting the regression line\n",
    "line = regr.coef_*x+regr.intercept_\n",
    "\n",
    "# Plotting for the test data\n",
    "c=0\n",
    "plt.figure(figsize=(9,9))\n",
    "plt.title(\"Plotting the Best Fit line\",size=15)\n",
    "for i in df.Scores:\n",
    "    if i>=85:\n",
    "        plt.scatter(df.Hours[c],i,color=\"Green\",marker='*')\n",
    "    if i>=60 and i<85:\n",
    "        plt.scatter(df.Hours[c],i,color=\"LightGreen\",marker='*')\n",
    "    if i>=40 and i<60:\n",
    "        plt.scatter(df.Hours[c],i,color=\"yellow\")\n",
    "    if i<40:\n",
    "        plt.scatter(df.Hours[c],i,color=\"red\")\n",
    "        \n",
    "    c=c+1\n",
    "plt.xlabel(\"Hours\",size=15,color=\"Green\")\n",
    "plt.ylabel(\"Scores\",size=15,color=\"Green\")\n",
    "plt.plot(x, line,color='#adcbef',label=\"Best Fit Line\")\n",
    "plt.legend(loc=[1.02,0.5])\n",
    "plt.show()"
   ]
  },
  {
   "cell_type": "markdown",
   "metadata": {},
   "source": [
    "## PREDICTING THE SCORE"
   ]
  },
  {
   "cell_type": "markdown",
   "metadata": {},
   "source": [
    "#### Now that we have trained the model we can now predict the required information."
   ]
  },
  {
   "cell_type": "code",
   "execution_count": 9,
   "metadata": {},
   "outputs": [],
   "source": [
    "# Here we predict the data based on our model and use \"x_test\" data\n",
    "yp=regr.predict(x_test)"
   ]
  },
  {
   "cell_type": "code",
   "execution_count": 10,
   "metadata": {},
   "outputs": [
    {
     "name": "stdout",
     "output_type": "stream",
     "text": [
      "Actual    Predicted Data\n",
      "81       83.39168644881056\n",
      "30       27.07054901762714\n",
      "21       27.07054901762714\n",
      "76       69.79692913783526\n",
      "62       60.08638820142432\n",
      "25       29.012657204909328\n",
      "42       34.838981766755886\n",
      "47       52.317955452295564\n"
     ]
    }
   ],
   "source": [
    "print(\"Actual\",\"  \",\"Predicted Data\")\n",
    "for i in range(len(y_test)):\n",
    "    print(y_test[i],\"     \",yp[i])"
   ]
  },
  {
   "cell_type": "markdown",
   "metadata": {},
   "source": [
    "### From the above table we see that teh variation between the actual data and the predicted data."
   ]
  },
  {
   "cell_type": "code",
   "execution_count": 11,
   "metadata": {},
   "outputs": [
    {
     "name": "stdout",
     "output_type": "stream",
     "text": [
      "Mean Absolute Error: 4.5\n"
     ]
    }
   ],
   "source": [
    "# Showing the Absolute mean error between the test data and predicted data\n",
    "from sklearn import metrics  \n",
    "print('Mean Absolute Error:',round(metrics.mean_absolute_error(y_test, yp),2)) "
   ]
  },
  {
   "cell_type": "markdown",
   "metadata": {},
   "source": [
    "### After studying for 9.25 hours/day, the student scores the following marks."
   ]
  },
  {
   "cell_type": "code",
   "execution_count": 12,
   "metadata": {},
   "outputs": [
    {
     "name": "stdout",
     "output_type": "stream",
     "text": [
      "The student scored  92.617 % marks.\n"
     ]
    }
   ],
   "source": [
    "hours=[[9.25]]\n",
    "output=regr.predict(hours)\n",
    "print(\"The student scored \",round(output[0],3),\"% marks.\")"
   ]
  }
 ],
 "metadata": {
  "kernelspec": {
   "display_name": "Python 3",
   "language": "python",
   "name": "python3"
  },
  "language_info": {
   "codemirror_mode": {
    "name": "ipython",
    "version": 3
   },
   "file_extension": ".py",
   "mimetype": "text/x-python",
   "name": "python",
   "nbconvert_exporter": "python",
   "pygments_lexer": "ipython3",
   "version": "3.8.3"
  }
 },
 "nbformat": 4,
 "nbformat_minor": 4
}
